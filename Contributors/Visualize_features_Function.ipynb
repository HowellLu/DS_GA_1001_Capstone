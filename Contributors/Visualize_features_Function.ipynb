{
 "cells": [
  {
   "cell_type": "code",
   "execution_count": 1,
   "id": "689d10c1",
   "metadata": {
    "ExecuteTime": {
     "end_time": "2021-12-02T19:24:43.960538Z",
     "start_time": "2021-12-02T19:24:43.934808Z"
    }
   },
   "outputs": [],
   "source": [
    "#Takes in the number of features to plot and returns the x and y values for the join plot\n",
    "def plotsize_check(features_length):\n",
    "    if features_length == 2:\n",
    "        result = (1, 2)\n",
    "    elif features_length == 4:\n",
    "        result = (2, 2)\n",
    "    elif features_length == 5:\n",
    "        result = (2, 3)\n",
    "    else:\n",
    "        if features_length % 4 == 0:\n",
    "            result = (int(features_length/4), 4)\n",
    "        elif features_length % 3 == 0:\n",
    "            result = (int(features_length/3), 3)\n",
    "        else:\n",
    "            result = (int(np.ceil(features_length/4)), 4)\n",
    "\n",
    "    return result[0], result[1]"
   ]
  },
  {
   "cell_type": "code",
   "execution_count": 2,
   "id": "f22499e1",
   "metadata": {
    "ExecuteTime": {
     "end_time": "2021-12-02T19:24:55.006888Z",
     "start_time": "2021-12-02T19:24:54.982891Z"
    }
   },
   "outputs": [],
   "source": [
    "#Takes the dataframe and a list with the categorical columns and plots them using seaborn's countplot\n",
    "def plot_features(df, feature_list, is_categorical=True, compare_feature=None):\n",
    "    rows, columns = plotsize_check(len(feature_list))\n",
    "    fig, axes = plt.subplots(rows, columns, figsize=(7*columns, 8*rows))\n",
    "\n",
    "    for i in range(0,rows):\n",
    "        for j in range(0,columns):\n",
    "            if i*columns + j == len(feature_list): break\n",
    "            \n",
    "            if is_categorical == True and compare_feature != None:\n",
    "                sns.countplot(ax=axes[i, j], x=df[feature_list[i*columns+j]], hue = df[compare_feature], palette='mako')\n",
    "                axes[i, j].set_title(feature_list[i*columns+j])\n",
    "            elif is_categorical == True and compare_feature == None:\n",
    "                sns.countplot(ax=axes[i, j], x=df[feature_list[i*columns+j]], palette='mako')\n",
    "                axes[i, j].set_title(feature_list[i*columns+j])\n",
    "            else: \n",
    "                sns.kdeplot(ax=axes[i, j], x=df[feature_list[i*columns+j]], shade=True)\n",
    "                axes[i, j].set_title(feature_list[i*columns+j])"
   ]
  }
 ],
 "metadata": {
  "kernelspec": {
   "display_name": "Python 3 (ipykernel)",
   "language": "python",
   "name": "python3"
  },
  "language_info": {
   "codemirror_mode": {
    "name": "ipython",
    "version": 3
   },
   "file_extension": ".py",
   "mimetype": "text/x-python",
   "name": "python",
   "nbconvert_exporter": "python",
   "pygments_lexer": "ipython3",
   "version": "3.9.7"
  },
  "toc": {
   "base_numbering": 1,
   "nav_menu": {},
   "number_sections": true,
   "sideBar": true,
   "skip_h1_title": false,
   "title_cell": "Table of Contents",
   "title_sidebar": "Contents",
   "toc_cell": false,
   "toc_position": {},
   "toc_section_display": true,
   "toc_window_display": false
  },
  "varInspector": {
   "cols": {
    "lenName": 16,
    "lenType": 16,
    "lenVar": 40
   },
   "kernels_config": {
    "python": {
     "delete_cmd_postfix": "",
     "delete_cmd_prefix": "del ",
     "library": "var_list.py",
     "varRefreshCmd": "print(var_dic_list())"
    },
    "r": {
     "delete_cmd_postfix": ") ",
     "delete_cmd_prefix": "rm(",
     "library": "var_list.r",
     "varRefreshCmd": "cat(var_dic_list()) "
    }
   },
   "types_to_exclude": [
    "module",
    "function",
    "builtin_function_or_method",
    "instance",
    "_Feature"
   ],
   "window_display": false
  }
 },
 "nbformat": 4,
 "nbformat_minor": 5
}
